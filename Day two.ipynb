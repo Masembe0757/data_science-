{
 "cells": [
  {
   "cell_type": "code",
   "execution_count": 1,
   "id": "07c28457-f879-43be-befc-de1ff96cfca3",
   "metadata": {},
   "outputs": [
    {
     "name": "stderr",
     "output_type": "stream",
     "text": [
      "/usr/lib/python3/dist-packages/scipy/__init__.py:146: UserWarning: A NumPy version >=1.17.3 and <1.25.0 is required for this version of SciPy (detected version 1.26.3\n",
      "  warnings.warn(f\"A NumPy version >={np_minversion} and <{np_maxversion}\"\n"
     ]
    }
   ],
   "source": [
    "import pandas as pd\n",
    "import matplotlib.pyplot as plt\n",
    "import seaborn as sns"
   ]
  },
  {
   "cell_type": "code",
   "execution_count": 2,
   "id": "85ff45e5-5e41-4ad7-95be-0159cf31561c",
   "metadata": {},
   "outputs": [],
   "source": [
    "df = pd.read_csv('My Males Covid Data.csv')"
   ]
  },
  {
   "cell_type": "code",
   "execution_count": 3,
   "id": "ca3521e3-f38f-435f-97ec-f87a2a578381",
   "metadata": {},
   "outputs": [
    {
     "data": {
      "text/html": [
       "<div>\n",
       "<style scoped>\n",
       "    .dataframe tbody tr th:only-of-type {\n",
       "        vertical-align: middle;\n",
       "    }\n",
       "\n",
       "    .dataframe tbody tr th {\n",
       "        vertical-align: top;\n",
       "    }\n",
       "\n",
       "    .dataframe thead th {\n",
       "        text-align: right;\n",
       "    }\n",
       "</style>\n",
       "<table border=\"1\" class=\"dataframe\">\n",
       "  <thead>\n",
       "    <tr style=\"text-align: right;\">\n",
       "      <th></th>\n",
       "      <th>Unnamed: 0</th>\n",
       "      <th>DATE_DIED</th>\n",
       "      <th>INTUBED</th>\n",
       "      <th>PNEUMONIA</th>\n",
       "      <th>AGE</th>\n",
       "      <th>DIABETES</th>\n",
       "      <th>ASTHMA</th>\n",
       "      <th>OTHER_DISEASE</th>\n",
       "      <th>CARDIOVASCULAR</th>\n",
       "      <th>OBESITY</th>\n",
       "      <th>TOBACCO</th>\n",
       "      <th>ICU</th>\n",
       "      <th>STATUS</th>\n",
       "      <th>DAY_DIED</th>\n",
       "      <th>MONTH_DIED</th>\n",
       "    </tr>\n",
       "  </thead>\n",
       "  <tbody>\n",
       "    <tr>\n",
       "      <th>0</th>\n",
       "      <td>1</td>\n",
       "      <td>03/06/2020</td>\n",
       "      <td>97</td>\n",
       "      <td>1</td>\n",
       "      <td>72</td>\n",
       "      <td>2</td>\n",
       "      <td>2</td>\n",
       "      <td>2</td>\n",
       "      <td>2</td>\n",
       "      <td>1</td>\n",
       "      <td>2</td>\n",
       "      <td>97</td>\n",
       "      <td>Died</td>\n",
       "      <td>03</td>\n",
       "      <td>['06']</td>\n",
       "    </tr>\n",
       "    <tr>\n",
       "      <th>1</th>\n",
       "      <td>2</td>\n",
       "      <td>09/06/2020</td>\n",
       "      <td>1</td>\n",
       "      <td>2</td>\n",
       "      <td>55</td>\n",
       "      <td>1</td>\n",
       "      <td>2</td>\n",
       "      <td>2</td>\n",
       "      <td>2</td>\n",
       "      <td>2</td>\n",
       "      <td>2</td>\n",
       "      <td>2</td>\n",
       "      <td>Died</td>\n",
       "      <td>09</td>\n",
       "      <td>['06']</td>\n",
       "    </tr>\n",
       "    <tr>\n",
       "      <th>2</th>\n",
       "      <td>4</td>\n",
       "      <td>21/06/2020</td>\n",
       "      <td>97</td>\n",
       "      <td>2</td>\n",
       "      <td>68</td>\n",
       "      <td>1</td>\n",
       "      <td>2</td>\n",
       "      <td>2</td>\n",
       "      <td>2</td>\n",
       "      <td>2</td>\n",
       "      <td>2</td>\n",
       "      <td>97</td>\n",
       "      <td>Died</td>\n",
       "      <td>21</td>\n",
       "      <td>['06']</td>\n",
       "    </tr>\n",
       "    <tr>\n",
       "      <th>3</th>\n",
       "      <td>11</td>\n",
       "      <td>9999-99-99</td>\n",
       "      <td>2</td>\n",
       "      <td>2</td>\n",
       "      <td>24</td>\n",
       "      <td>2</td>\n",
       "      <td>2</td>\n",
       "      <td>2</td>\n",
       "      <td>2</td>\n",
       "      <td>2</td>\n",
       "      <td>2</td>\n",
       "      <td>2</td>\n",
       "      <td>Cured</td>\n",
       "      <td>9999-99-99</td>\n",
       "      <td>[]</td>\n",
       "    </tr>\n",
       "    <tr>\n",
       "      <th>4</th>\n",
       "      <td>12</td>\n",
       "      <td>9999-99-99</td>\n",
       "      <td>2</td>\n",
       "      <td>2</td>\n",
       "      <td>30</td>\n",
       "      <td>2</td>\n",
       "      <td>2</td>\n",
       "      <td>2</td>\n",
       "      <td>2</td>\n",
       "      <td>2</td>\n",
       "      <td>2</td>\n",
       "      <td>2</td>\n",
       "      <td>Cured</td>\n",
       "      <td>9999-99-99</td>\n",
       "      <td>[]</td>\n",
       "    </tr>\n",
       "    <tr>\n",
       "      <th>...</th>\n",
       "      <td>...</td>\n",
       "      <td>...</td>\n",
       "      <td>...</td>\n",
       "      <td>...</td>\n",
       "      <td>...</td>\n",
       "      <td>...</td>\n",
       "      <td>...</td>\n",
       "      <td>...</td>\n",
       "      <td>...</td>\n",
       "      <td>...</td>\n",
       "      <td>...</td>\n",
       "      <td>...</td>\n",
       "      <td>...</td>\n",
       "      <td>...</td>\n",
       "      <td>...</td>\n",
       "    </tr>\n",
       "    <tr>\n",
       "      <th>523506</th>\n",
       "      <td>1048570</td>\n",
       "      <td>9999-99-99</td>\n",
       "      <td>97</td>\n",
       "      <td>2</td>\n",
       "      <td>40</td>\n",
       "      <td>2</td>\n",
       "      <td>2</td>\n",
       "      <td>2</td>\n",
       "      <td>2</td>\n",
       "      <td>2</td>\n",
       "      <td>2</td>\n",
       "      <td>97</td>\n",
       "      <td>Cured</td>\n",
       "      <td>9999-99-99</td>\n",
       "      <td>[]</td>\n",
       "    </tr>\n",
       "    <tr>\n",
       "      <th>523507</th>\n",
       "      <td>1048571</td>\n",
       "      <td>9999-99-99</td>\n",
       "      <td>2</td>\n",
       "      <td>2</td>\n",
       "      <td>51</td>\n",
       "      <td>2</td>\n",
       "      <td>2</td>\n",
       "      <td>2</td>\n",
       "      <td>2</td>\n",
       "      <td>2</td>\n",
       "      <td>2</td>\n",
       "      <td>2</td>\n",
       "      <td>Cured</td>\n",
       "      <td>9999-99-99</td>\n",
       "      <td>[]</td>\n",
       "    </tr>\n",
       "    <tr>\n",
       "      <th>523508</th>\n",
       "      <td>1048572</td>\n",
       "      <td>9999-99-99</td>\n",
       "      <td>97</td>\n",
       "      <td>2</td>\n",
       "      <td>55</td>\n",
       "      <td>2</td>\n",
       "      <td>2</td>\n",
       "      <td>2</td>\n",
       "      <td>2</td>\n",
       "      <td>2</td>\n",
       "      <td>2</td>\n",
       "      <td>97</td>\n",
       "      <td>Cured</td>\n",
       "      <td>9999-99-99</td>\n",
       "      <td>[]</td>\n",
       "    </tr>\n",
       "    <tr>\n",
       "      <th>523509</th>\n",
       "      <td>1048573</td>\n",
       "      <td>9999-99-99</td>\n",
       "      <td>97</td>\n",
       "      <td>2</td>\n",
       "      <td>28</td>\n",
       "      <td>2</td>\n",
       "      <td>2</td>\n",
       "      <td>2</td>\n",
       "      <td>2</td>\n",
       "      <td>2</td>\n",
       "      <td>2</td>\n",
       "      <td>97</td>\n",
       "      <td>Cured</td>\n",
       "      <td>9999-99-99</td>\n",
       "      <td>[]</td>\n",
       "    </tr>\n",
       "    <tr>\n",
       "      <th>523510</th>\n",
       "      <td>1048574</td>\n",
       "      <td>9999-99-99</td>\n",
       "      <td>97</td>\n",
       "      <td>2</td>\n",
       "      <td>52</td>\n",
       "      <td>2</td>\n",
       "      <td>2</td>\n",
       "      <td>2</td>\n",
       "      <td>2</td>\n",
       "      <td>2</td>\n",
       "      <td>2</td>\n",
       "      <td>97</td>\n",
       "      <td>Cured</td>\n",
       "      <td>9999-99-99</td>\n",
       "      <td>[]</td>\n",
       "    </tr>\n",
       "  </tbody>\n",
       "</table>\n",
       "<p>523511 rows × 15 columns</p>\n",
       "</div>"
      ],
      "text/plain": [
       "        Unnamed: 0   DATE_DIED  INTUBED  PNEUMONIA  AGE  DIABETES  ASTHMA  \\\n",
       "0                1  03/06/2020       97          1   72         2       2   \n",
       "1                2  09/06/2020        1          2   55         1       2   \n",
       "2                4  21/06/2020       97          2   68         1       2   \n",
       "3               11  9999-99-99        2          2   24         2       2   \n",
       "4               12  9999-99-99        2          2   30         2       2   \n",
       "...            ...         ...      ...        ...  ...       ...     ...   \n",
       "523506     1048570  9999-99-99       97          2   40         2       2   \n",
       "523507     1048571  9999-99-99        2          2   51         2       2   \n",
       "523508     1048572  9999-99-99       97          2   55         2       2   \n",
       "523509     1048573  9999-99-99       97          2   28         2       2   \n",
       "523510     1048574  9999-99-99       97          2   52         2       2   \n",
       "\n",
       "        OTHER_DISEASE  CARDIOVASCULAR  OBESITY  TOBACCO  ICU STATUS  \\\n",
       "0                   2               2        1        2   97   Died   \n",
       "1                   2               2        2        2    2   Died   \n",
       "2                   2               2        2        2   97   Died   \n",
       "3                   2               2        2        2    2  Cured   \n",
       "4                   2               2        2        2    2  Cured   \n",
       "...               ...             ...      ...      ...  ...    ...   \n",
       "523506              2               2        2        2   97  Cured   \n",
       "523507              2               2        2        2    2  Cured   \n",
       "523508              2               2        2        2   97  Cured   \n",
       "523509              2               2        2        2   97  Cured   \n",
       "523510              2               2        2        2   97  Cured   \n",
       "\n",
       "          DAY_DIED MONTH_DIED  \n",
       "0               03     ['06']  \n",
       "1               09     ['06']  \n",
       "2               21     ['06']  \n",
       "3       9999-99-99         []  \n",
       "4       9999-99-99         []  \n",
       "...            ...        ...  \n",
       "523506  9999-99-99         []  \n",
       "523507  9999-99-99         []  \n",
       "523508  9999-99-99         []  \n",
       "523509  9999-99-99         []  \n",
       "523510  9999-99-99         []  \n",
       "\n",
       "[523511 rows x 15 columns]"
      ]
     },
     "execution_count": 3,
     "metadata": {},
     "output_type": "execute_result"
    }
   ],
   "source": [
    "df"
   ]
  },
  {
   "cell_type": "code",
   "execution_count": 4,
   "id": "42f3e8b2-b3bf-4aa5-991f-131fd80b08f3",
   "metadata": {
    "scrolled": true
   },
   "outputs": [
    {
     "data": {
      "text/html": [
       "<div>\n",
       "<style scoped>\n",
       "    .dataframe tbody tr th:only-of-type {\n",
       "        vertical-align: middle;\n",
       "    }\n",
       "\n",
       "    .dataframe tbody tr th {\n",
       "        vertical-align: top;\n",
       "    }\n",
       "\n",
       "    .dataframe thead th {\n",
       "        text-align: right;\n",
       "    }\n",
       "</style>\n",
       "<table border=\"1\" class=\"dataframe\">\n",
       "  <thead>\n",
       "    <tr style=\"text-align: right;\">\n",
       "      <th></th>\n",
       "      <th>Unnamed: 0</th>\n",
       "      <th>INTUBED</th>\n",
       "      <th>PNEUMONIA</th>\n",
       "      <th>AGE</th>\n",
       "      <th>DIABETES</th>\n",
       "      <th>ASTHMA</th>\n",
       "      <th>OTHER_DISEASE</th>\n",
       "      <th>CARDIOVASCULAR</th>\n",
       "      <th>OBESITY</th>\n",
       "      <th>TOBACCO</th>\n",
       "      <th>ICU</th>\n",
       "    </tr>\n",
       "  </thead>\n",
       "  <tbody>\n",
       "    <tr>\n",
       "      <th>count</th>\n",
       "      <td>5.235110e+05</td>\n",
       "      <td>523511.000000</td>\n",
       "      <td>523511.000000</td>\n",
       "      <td>523511.000000</td>\n",
       "      <td>523511.000000</td>\n",
       "      <td>523511.000000</td>\n",
       "      <td>523511.000000</td>\n",
       "      <td>523511.000000</td>\n",
       "      <td>523511.000000</td>\n",
       "      <td>523511.000000</td>\n",
       "      <td>523511.000000</td>\n",
       "    </tr>\n",
       "    <tr>\n",
       "      <th>mean</th>\n",
       "      <td>5.147915e+05</td>\n",
       "      <td>76.201852</td>\n",
       "      <td>3.202103</td>\n",
       "      <td>42.274428</td>\n",
       "      <td>2.234685</td>\n",
       "      <td>2.295971</td>\n",
       "      <td>2.495313</td>\n",
       "      <td>2.304336</td>\n",
       "      <td>2.176271</td>\n",
       "      <td>2.240557</td>\n",
       "      <td>76.240723</td>\n",
       "    </tr>\n",
       "    <tr>\n",
       "      <th>std</th>\n",
       "      <td>3.011946e+05</td>\n",
       "      <td>39.353243</td>\n",
       "      <td>11.443021</td>\n",
       "      <td>17.220961</td>\n",
       "      <td>5.863303</td>\n",
       "      <td>5.523906</td>\n",
       "      <td>7.038819</td>\n",
       "      <td>5.585147</td>\n",
       "      <td>5.571850</td>\n",
       "      <td>5.790824</td>\n",
       "      <td>39.301552</td>\n",
       "    </tr>\n",
       "    <tr>\n",
       "      <th>min</th>\n",
       "      <td>1.000000e+00</td>\n",
       "      <td>1.000000</td>\n",
       "      <td>1.000000</td>\n",
       "      <td>0.000000</td>\n",
       "      <td>1.000000</td>\n",
       "      <td>1.000000</td>\n",
       "      <td>1.000000</td>\n",
       "      <td>1.000000</td>\n",
       "      <td>1.000000</td>\n",
       "      <td>1.000000</td>\n",
       "      <td>1.000000</td>\n",
       "    </tr>\n",
       "    <tr>\n",
       "      <th>25%</th>\n",
       "      <td>2.556800e+05</td>\n",
       "      <td>97.000000</td>\n",
       "      <td>2.000000</td>\n",
       "      <td>30.000000</td>\n",
       "      <td>2.000000</td>\n",
       "      <td>2.000000</td>\n",
       "      <td>2.000000</td>\n",
       "      <td>2.000000</td>\n",
       "      <td>2.000000</td>\n",
       "      <td>2.000000</td>\n",
       "      <td>97.000000</td>\n",
       "    </tr>\n",
       "    <tr>\n",
       "      <th>50%</th>\n",
       "      <td>5.079470e+05</td>\n",
       "      <td>97.000000</td>\n",
       "      <td>2.000000</td>\n",
       "      <td>41.000000</td>\n",
       "      <td>2.000000</td>\n",
       "      <td>2.000000</td>\n",
       "      <td>2.000000</td>\n",
       "      <td>2.000000</td>\n",
       "      <td>2.000000</td>\n",
       "      <td>2.000000</td>\n",
       "      <td>97.000000</td>\n",
       "    </tr>\n",
       "    <tr>\n",
       "      <th>75%</th>\n",
       "      <td>7.724015e+05</td>\n",
       "      <td>97.000000</td>\n",
       "      <td>2.000000</td>\n",
       "      <td>54.000000</td>\n",
       "      <td>2.000000</td>\n",
       "      <td>2.000000</td>\n",
       "      <td>2.000000</td>\n",
       "      <td>2.000000</td>\n",
       "      <td>2.000000</td>\n",
       "      <td>2.000000</td>\n",
       "      <td>97.000000</td>\n",
       "    </tr>\n",
       "    <tr>\n",
       "      <th>max</th>\n",
       "      <td>1.048574e+06</td>\n",
       "      <td>99.000000</td>\n",
       "      <td>99.000000</td>\n",
       "      <td>120.000000</td>\n",
       "      <td>98.000000</td>\n",
       "      <td>98.000000</td>\n",
       "      <td>98.000000</td>\n",
       "      <td>98.000000</td>\n",
       "      <td>98.000000</td>\n",
       "      <td>98.000000</td>\n",
       "      <td>99.000000</td>\n",
       "    </tr>\n",
       "  </tbody>\n",
       "</table>\n",
       "</div>"
      ],
      "text/plain": [
       "         Unnamed: 0        INTUBED      PNEUMONIA            AGE  \\\n",
       "count  5.235110e+05  523511.000000  523511.000000  523511.000000   \n",
       "mean   5.147915e+05      76.201852       3.202103      42.274428   \n",
       "std    3.011946e+05      39.353243      11.443021      17.220961   \n",
       "min    1.000000e+00       1.000000       1.000000       0.000000   \n",
       "25%    2.556800e+05      97.000000       2.000000      30.000000   \n",
       "50%    5.079470e+05      97.000000       2.000000      41.000000   \n",
       "75%    7.724015e+05      97.000000       2.000000      54.000000   \n",
       "max    1.048574e+06      99.000000      99.000000     120.000000   \n",
       "\n",
       "            DIABETES         ASTHMA  OTHER_DISEASE  CARDIOVASCULAR  \\\n",
       "count  523511.000000  523511.000000  523511.000000   523511.000000   \n",
       "mean        2.234685       2.295971       2.495313        2.304336   \n",
       "std         5.863303       5.523906       7.038819        5.585147   \n",
       "min         1.000000       1.000000       1.000000        1.000000   \n",
       "25%         2.000000       2.000000       2.000000        2.000000   \n",
       "50%         2.000000       2.000000       2.000000        2.000000   \n",
       "75%         2.000000       2.000000       2.000000        2.000000   \n",
       "max        98.000000      98.000000      98.000000       98.000000   \n",
       "\n",
       "             OBESITY        TOBACCO            ICU  \n",
       "count  523511.000000  523511.000000  523511.000000  \n",
       "mean        2.176271       2.240557      76.240723  \n",
       "std         5.571850       5.790824      39.301552  \n",
       "min         1.000000       1.000000       1.000000  \n",
       "25%         2.000000       2.000000      97.000000  \n",
       "50%         2.000000       2.000000      97.000000  \n",
       "75%         2.000000       2.000000      97.000000  \n",
       "max        98.000000      98.000000      99.000000  "
      ]
     },
     "execution_count": 4,
     "metadata": {},
     "output_type": "execute_result"
    }
   ],
   "source": [
    "df.describe()"
   ]
  },
  {
   "cell_type": "markdown",
   "id": "1ae5cf7f-43db-4c75-8412-ea9ac9b98833",
   "metadata": {},
   "source": [
    "HISTOGRAM"
   ]
  },
  {
   "cell_type": "code",
   "execution_count": 5,
   "id": "2f1903a3-bf8c-493f-9647-632d9a330630",
   "metadata": {},
   "outputs": [
    {
     "data": {
      "text/plain": [
       "<AxesSubplot:>"
      ]
     },
     "execution_count": 5,
     "metadata": {},
     "output_type": "execute_result"
    },
    {
     "data": {
      "image/png": "[encoded data removed]",
      "text/plain": [
       "<Figure size 432x288 with 1 Axes>"
      ]
     },
     "metadata": {
      "needs_background": "light"
     },
     "output_type": "display_data"
    }
   ],
   "source": [
    "df.AGE.hist()"
   ]
  },
  {
   "cell_type": "code",
   "execution_count": 6,
   "id": "d80c2d90-8388-4efb-9821-d3c79b476bb8",
   "metadata": {},
   "outputs": [
    {
     "data": {
      "text/plain": [
       "<AxesSubplot:>"
      ]
     },
     "execution_count": 6,
     "metadata": {},
     "output_type": "execute_result"
    },
    {
     "data": {
      "image/png": "[encoded data removed]",
      "text/plain": [
       "<Figure size 432x288 with 1 Axes>"
      ]
     },
     "metadata": {
      "needs_background": "light"
     },
     "output_type": "display_data"
    }
   ],
   "source": [
    "df.boxplot(column = 'AGE')"
   ]
  },
  {
   "cell_type": "code",
   "execution_count": 7,
   "id": "5a586d41-149e-4286-9b0a-11df71c61996",
   "metadata": {},
   "outputs": [],
   "source": [
    "df['AG'] = df.AGE.apply(lambda x : x>100)"
   ]
  },
  {
   "cell_type": "code",
   "execution_count": 8,
   "id": "4084344b-a37c-45e6-9da2-5e46147d88eb",
   "metadata": {},
   "outputs": [
    {
     "data": {
      "text/plain": [
       "AG\n",
       "False    523442\n",
       "True         69\n",
       "Name: count, dtype: int64"
      ]
     },
     "execution_count": 8,
     "metadata": {},
     "output_type": "execute_result"
    }
   ],
   "source": [
    "df['AG'].value_counts()"
   ]
  },
  {
   "cell_type": "code",
   "execution_count": 9,
   "id": "2f28aa87-9262-4a41-838e-5fae4c97a20a",
   "metadata": {},
   "outputs": [],
   "source": [
    "#Cleaning age \n",
    "df = df[df['AGE']<90]"
   ]
  },
  {
   "cell_type": "markdown",
   "id": "99c4aeed-a05d-4f7d-9df4-d56641688550",
   "metadata": {},
   "source": [
    "BOXPLOT"
   ]
  },
  {
   "cell_type": "code",
   "execution_count": 10,
   "id": "fd2344ca-1217-4af5-9b97-91d29d8c380d",
   "metadata": {},
   "outputs": [
    {
     "data": {
      "text/plain": [
       "<AxesSubplot:>"
      ]
     },
     "execution_count": 10,
     "metadata": {},
     "output_type": "execute_result"
    },
    {
     "data": {
      "image/png": "[encoded data removed]",
      "text/plain": [
       "<Figure size 432x288 with 1 Axes>"
      ]
     },
     "metadata": {
      "needs_background": "light"
     },
     "output_type": "display_data"
    }
   ],
   "source": [
    "df.boxplot(column = 'AGE')"
   ]
  },
  {
   "cell_type": "raw",
   "id": "829dcc7f-c174-4156-a85a-afa5a6dc9363",
   "metadata": {},
   "source": [
    "Correlation between age,TOBACCO,ICU and Death"
   ]
  },
  {
   "cell_type": "code",
   "execution_count": 11,
   "id": "768ba48b-23a7-4008-85e3-4625fbe899a0",
   "metadata": {
    "scrolled": true
   },
   "outputs": [
    {
     "data": {
      "text/plain": [
       "Index(['Unnamed: 0', 'DATE_DIED', 'INTUBED', 'PNEUMONIA', 'AGE', 'DIABETES',\n",
       "       'ASTHMA', 'OTHER_DISEASE', 'CARDIOVASCULAR', 'OBESITY', 'TOBACCO',\n",
       "       'ICU', 'STATUS', 'DAY_DIED', 'MONTH_DIED', 'AG'],\n",
       "      dtype='object')"
      ]
     },
     "execution_count": 11,
     "metadata": {},
     "output_type": "execute_result"
    }
   ],
   "source": [
    "df.columns"
   ]
  },
  {
   "cell_type": "raw",
   "id": "d9db407f-777e-4bb5-9258-cf55bb6cf3e0",
   "metadata": {},
   "source": [
    "CORRELATION MATRICE"
   ]
  },
  {
   "cell_type": "code",
   "execution_count": 12,
   "id": "bc133bd3-e398-4448-964e-c08e1b57c7b4",
   "metadata": {
    "scrolled": true
   },
   "outputs": [
    {
     "data": {
      "text/html": [
       "<div>\n",
       "<style scoped>\n",
       "    .dataframe tbody tr th:only-of-type {\n",
       "        vertical-align: middle;\n",
       "    }\n",
       "\n",
       "    .dataframe tbody tr th {\n",
       "        vertical-align: top;\n",
       "    }\n",
       "\n",
       "    .dataframe thead th {\n",
       "        text-align: right;\n",
       "    }\n",
       "</style>\n",
       "<table border=\"1\" class=\"dataframe\">\n",
       "  <thead>\n",
       "    <tr style=\"text-align: right;\">\n",
       "      <th></th>\n",
       "      <th>TOBACCO</th>\n",
       "      <th>INTUBED</th>\n",
       "      <th>PNEUMONIA</th>\n",
       "      <th>AGE</th>\n",
       "      <th>DIABETES</th>\n",
       "      <th>ASTHMA</th>\n",
       "      <th>OTHER_DISEASE</th>\n",
       "      <th>CARDIOVASCULAR</th>\n",
       "      <th>OBESITY</th>\n",
       "      <th>ICU</th>\n",
       "    </tr>\n",
       "  </thead>\n",
       "  <tbody>\n",
       "    <tr>\n",
       "      <th>TOBACCO</th>\n",
       "      <td>1.000000</td>\n",
       "      <td>-0.023866</td>\n",
       "      <td>-0.005275</td>\n",
       "      <td>0.021379</td>\n",
       "      <td>0.769080</td>\n",
       "      <td>0.841449</td>\n",
       "      <td>0.674273</td>\n",
       "      <td>0.854177</td>\n",
       "      <td>0.789886</td>\n",
       "      <td>-0.023894</td>\n",
       "    </tr>\n",
       "    <tr>\n",
       "      <th>INTUBED</th>\n",
       "      <td>-0.023866</td>\n",
       "      <td>1.000000</td>\n",
       "      <td>0.086070</td>\n",
       "      <td>-0.337728</td>\n",
       "      <td>-0.012906</td>\n",
       "      <td>-0.025501</td>\n",
       "      <td>-0.039614</td>\n",
       "      <td>-0.024992</td>\n",
       "      <td>-0.023701</td>\n",
       "      <td>0.999417</td>\n",
       "    </tr>\n",
       "    <tr>\n",
       "      <th>PNEUMONIA</th>\n",
       "      <td>-0.005275</td>\n",
       "      <td>0.086070</td>\n",
       "      <td>1.000000</td>\n",
       "      <td>-0.089904</td>\n",
       "      <td>-0.005688</td>\n",
       "      <td>-0.005933</td>\n",
       "      <td>-0.000125</td>\n",
       "      <td>-0.006070</td>\n",
       "      <td>-0.005314</td>\n",
       "      <td>0.086013</td>\n",
       "    </tr>\n",
       "    <tr>\n",
       "      <th>AGE</th>\n",
       "      <td>0.021379</td>\n",
       "      <td>-0.337728</td>\n",
       "      <td>-0.089904</td>\n",
       "      <td>1.000000</td>\n",
       "      <td>0.005838</td>\n",
       "      <td>0.022713</td>\n",
       "      <td>0.023381</td>\n",
       "      <td>0.019319</td>\n",
       "      <td>0.017227</td>\n",
       "      <td>-0.337679</td>\n",
       "    </tr>\n",
       "    <tr>\n",
       "      <th>DIABETES</th>\n",
       "      <td>0.769080</td>\n",
       "      <td>-0.012906</td>\n",
       "      <td>-0.005688</td>\n",
       "      <td>0.005838</td>\n",
       "      <td>1.000000</td>\n",
       "      <td>0.834876</td>\n",
       "      <td>0.647516</td>\n",
       "      <td>0.814839</td>\n",
       "      <td>0.751900</td>\n",
       "      <td>-0.012887</td>\n",
       "    </tr>\n",
       "    <tr>\n",
       "      <th>ASTHMA</th>\n",
       "      <td>0.841449</td>\n",
       "      <td>-0.025501</td>\n",
       "      <td>-0.005933</td>\n",
       "      <td>0.022713</td>\n",
       "      <td>0.834876</td>\n",
       "      <td>1.000000</td>\n",
       "      <td>0.709492</td>\n",
       "      <td>0.899909</td>\n",
       "      <td>0.825735</td>\n",
       "      <td>-0.025442</td>\n",
       "    </tr>\n",
       "    <tr>\n",
       "      <th>OTHER_DISEASE</th>\n",
       "      <td>0.674273</td>\n",
       "      <td>-0.039614</td>\n",
       "      <td>-0.000125</td>\n",
       "      <td>0.023381</td>\n",
       "      <td>0.647516</td>\n",
       "      <td>0.709492</td>\n",
       "      <td>1.000000</td>\n",
       "      <td>0.733284</td>\n",
       "      <td>0.656292</td>\n",
       "      <td>-0.039462</td>\n",
       "    </tr>\n",
       "    <tr>\n",
       "      <th>CARDIOVASCULAR</th>\n",
       "      <td>0.854177</td>\n",
       "      <td>-0.024992</td>\n",
       "      <td>-0.006070</td>\n",
       "      <td>0.019319</td>\n",
       "      <td>0.814839</td>\n",
       "      <td>0.899909</td>\n",
       "      <td>0.733284</td>\n",
       "      <td>1.000000</td>\n",
       "      <td>0.832546</td>\n",
       "      <td>-0.024934</td>\n",
       "    </tr>\n",
       "    <tr>\n",
       "      <th>OBESITY</th>\n",
       "      <td>0.789886</td>\n",
       "      <td>-0.023701</td>\n",
       "      <td>-0.005314</td>\n",
       "      <td>0.017227</td>\n",
       "      <td>0.751900</td>\n",
       "      <td>0.825735</td>\n",
       "      <td>0.656292</td>\n",
       "      <td>0.832546</td>\n",
       "      <td>1.000000</td>\n",
       "      <td>-0.023747</td>\n",
       "    </tr>\n",
       "    <tr>\n",
       "      <th>ICU</th>\n",
       "      <td>-0.023894</td>\n",
       "      <td>0.999417</td>\n",
       "      <td>0.086013</td>\n",
       "      <td>-0.337679</td>\n",
       "      <td>-0.012887</td>\n",
       "      <td>-0.025442</td>\n",
       "      <td>-0.039462</td>\n",
       "      <td>-0.024934</td>\n",
       "      <td>-0.023747</td>\n",
       "      <td>1.000000</td>\n",
       "    </tr>\n",
       "  </tbody>\n",
       "</table>\n",
       "</div>"
      ],
      "text/plain": [
       "                 TOBACCO   INTUBED  PNEUMONIA       AGE  DIABETES    ASTHMA  \\\n",
       "TOBACCO         1.000000 -0.023866  -0.005275  0.021379  0.769080  0.841449   \n",
       "INTUBED        -0.023866  1.000000   0.086070 -0.337728 -0.012906 -0.025501   \n",
       "PNEUMONIA      -0.005275  0.086070   1.000000 -0.089904 -0.005688 -0.005933   \n",
       "AGE             0.021379 -0.337728  -0.089904  1.000000  0.005838  0.022713   \n",
       "DIABETES        0.769080 -0.012906  -0.005688  0.005838  1.000000  0.834876   \n",
       "ASTHMA          0.841449 -0.025501  -0.005933  0.022713  0.834876  1.000000   \n",
       "OTHER_DISEASE   0.674273 -0.039614  -0.000125  0.023381  0.647516  0.709492   \n",
       "CARDIOVASCULAR  0.854177 -0.024992  -0.006070  0.019319  0.814839  0.899909   \n",
       "OBESITY         0.789886 -0.023701  -0.005314  0.017227  0.751900  0.825735   \n",
       "ICU            -0.023894  0.999417   0.086013 -0.337679 -0.012887 -0.025442   \n",
       "\n",
       "                OTHER_DISEASE  CARDIOVASCULAR   OBESITY       ICU  \n",
       "TOBACCO              0.674273        0.854177  0.789886 -0.023894  \n",
       "INTUBED             -0.039614       -0.024992 -0.023701  0.999417  \n",
       "PNEUMONIA           -0.000125       -0.006070 -0.005314  0.086013  \n",
       "AGE                  0.023381        0.019319  0.017227 -0.337679  \n",
       "DIABETES             0.647516        0.814839  0.751900 -0.012887  \n",
       "ASTHMA               0.709492        0.899909  0.825735 -0.025442  \n",
       "OTHER_DISEASE        1.000000        0.733284  0.656292 -0.039462  \n",
       "CARDIOVASCULAR       0.733284        1.000000  0.832546 -0.024934  \n",
       "OBESITY              0.656292        0.832546  1.000000 -0.023747  \n",
       "ICU                 -0.039462       -0.024934 -0.023747  1.000000  "
      ]
     },
     "execution_count": 12,
     "metadata": {},
     "output_type": "execute_result"
    }
   ],
   "source": [
    "corr = df[['TOBACCO','INTUBED', 'PNEUMONIA', 'AGE', 'DIABETES',\n",
    "       'ASTHMA', 'OTHER_DISEASE', 'CARDIOVASCULAR', 'OBESITY',\n",
    "       'ICU']].corr()\n",
    "corr"
   ]
  },
  {
   "cell_type": "markdown",
   "id": "605790d1-14cc-448b-88f5-898ea606441c",
   "metadata": {},
   "source": [
    "HEAT MAP"
   ]
  },
  {
   "cell_type": "code",
   "execution_count": 13,
   "id": "c9f82039-89b2-420f-b8c2-3c0186c88ed2",
   "metadata": {},
   "outputs": [
    {
     "data": {
      "text/plain": [
       "<AxesSubplot:>"
      ]
     },
     "execution_count": 13,
     "metadata": {},
     "output_type": "execute_result"
    },
    {
     "data": {
      "image/png": "[encoded data removed]",
      "text/plain": [
       "<Figure size 432x288 with 2 Axes>"
      ]
     },
     "metadata": {
      "needs_background": "light"
     },
     "output_type": "display_data"
    }
   ],
   "source": [
    "sns.heatmap(corr,vmax = 0.3 , center = 0,square = True, linewidths = 0.5,cbar_kws = {'shrink': 0.5})"
   ]
  },
  {
   "cell_type": "markdown",
   "id": "ffbf2f36-56c6-48d2-98d5-6577f096a053",
   "metadata": {},
   "source": [
    "PIVOT TABLE"
   ]
  },
  {
   "cell_type": "code",
   "execution_count": 14,
   "id": "e4f6cd7e-44a5-4bd6-8df3-e2dc38d2a0d0",
   "metadata": {},
   "outputs": [
    {
     "data": {
      "text/html": [
       "<div>\n",
       "<style scoped>\n",
       "    .dataframe tbody tr th:only-of-type {\n",
       "        vertical-align: middle;\n",
       "    }\n",
       "\n",
       "    .dataframe tbody tr th {\n",
       "        vertical-align: top;\n",
       "    }\n",
       "\n",
       "    .dataframe thead th {\n",
       "        text-align: right;\n",
       "    }\n",
       "</style>\n",
       "<table border=\"1\" class=\"dataframe\">\n",
       "  <thead>\n",
       "    <tr style=\"text-align: right;\">\n",
       "      <th></th>\n",
       "      <th>AGE</th>\n",
       "    </tr>\n",
       "    <tr>\n",
       "      <th>STATUS</th>\n",
       "      <th></th>\n",
       "    </tr>\n",
       "  </thead>\n",
       "  <tbody>\n",
       "    <tr>\n",
       "      <th>Cured</th>\n",
       "      <td>40.260839</td>\n",
       "    </tr>\n",
       "    <tr>\n",
       "      <th>Died</th>\n",
       "      <td>59.981809</td>\n",
       "    </tr>\n",
       "  </tbody>\n",
       "</table>\n",
       "</div>"
      ],
      "text/plain": [
       "              AGE\n",
       "STATUS           \n",
       "Cured   40.260839\n",
       "Died    59.981809"
      ]
     },
     "execution_count": 14,
     "metadata": {},
     "output_type": "execute_result"
    }
   ],
   "source": [
    "pd.pivot_table(df, index = 'STATUS',values = 'AGE')"
   ]
  },
  {
   "cell_type": "markdown",
   "id": "4e634884-4b49-4686-8108-d74085cf53fe",
   "metadata": {},
   "source": [
    "HOT TO DISPLAY ALL ROWS"
   ]
  },
  {
   "cell_type": "code",
   "execution_count": 15,
   "id": "ba8df9fb-3ccf-4d0e-b850-fe01ddc38ad2",
   "metadata": {},
   "outputs": [],
   "source": [
    "pd.set_option('display.max_rows',None)"
   ]
  },
  {
   "cell_type": "raw",
   "id": "93f10259-26ae-41c3-8556-64830e32da1f",
   "metadata": {},
   "source": [
    "BAR CHART /BARPPLOT"
   ]
  },
  {
   "cell_type": "code",
   "execution_count": 16,
   "id": "946eaa2a-9480-474e-9cd3-8ac20fbf3c73",
   "metadata": {
    "scrolled": true
   },
   "outputs": [
    {
     "name": "stdout",
     "output_type": "stream",
     "text": [
      "Graph for Life statuses of  Patients : total = 2\n"
     ]
    },
    {
     "name": "stderr",
     "output_type": "stream",
     "text": [
      "/tmp/ipykernel_7540/307659499.py:4: UserWarning: FixedFormatter should only be used together with FixedLocator\n",
      "  chart.set_xticklabels(chart.get_xticklabels(),rotation = 90)\n"
     ]
    },
    {
     "data": {
      "text/plain": [
       "<function matplotlib.pyplot.show(close=None, block=None)>"
      ]
     },
     "execution_count": 16,
     "metadata": {},
     "output_type": "execute_result"
    },
    {
     "data": {
      "image/png": "[encoded data removed]",
      "text/plain": [
       "<Figure size 432x288 with 1 Axes>"
      ]
     },
     "metadata": {
      "needs_background": "light"
     },
     "output_type": "display_data"
    }
   ],
   "source": [
    "#Death rate vs curing rate\n",
    "num = df['STATUS'].value_counts()\n",
    "chart = sns.barplot(x=num.index, y= num)\n",
    "chart.set_xticklabels(chart.get_xticklabels(),rotation = 90)\n",
    "print(\"Graph for Life statuses of  %s : total = %d\" % ('Patients',(len(num))))\n",
    "plt.show"
   ]
  },
  {
   "cell_type": "code",
   "execution_count": 17,
   "id": "5ece18c9-c330-42bc-87ab-96633f3d9e26",
   "metadata": {},
   "outputs": [],
   "source": [
    "df2 = df[df['STATUS'] == 'Died'] #return people who died\n",
    "df3 = df[df['STATUS'] == 'Cured']#return people who died"
   ]
  },
  {
   "cell_type": "code",
   "execution_count": 18,
   "id": "448ede7c-657f-42b2-80cd-653bdf9afa98",
   "metadata": {},
   "outputs": [
    {
     "name": "stdout",
     "output_type": "stream",
     "text": [
      "GRAPH FOR TOTAL NUMBER OF PEOPLE WHO DIED AGAINST  AGE : TOTAL = 90\n"
     ]
    },
    {
     "name": "stderr",
     "output_type": "stream",
     "text": [
      "/tmp/ipykernel_7540/1595413968.py:3: UserWarning: FixedFormatter should only be used together with FixedLocator\n",
      "  chart.set_xticklabels(chart.get_xticklabels(),rotation = 90, size = 5)\n"
     ]
    },
    {
     "data": {
      "text/plain": [
       "<function matplotlib.pyplot.show(close=None, block=None)>"
      ]
     },
     "execution_count": 18,
     "metadata": {},
     "output_type": "execute_result"
    },
    {
     "data": {
      "image/png": "[encoded data removed]",
      "text/plain": [
       "<Figure size 432x288 with 1 Axes>"
      ]
     },
     "metadata": {
      "needs_background": "light"
     },
     "output_type": "display_data"
    }
   ],
   "source": [
    "num2 = df2['AGE'].value_counts()\n",
    "chart = sns.barplot(x=num2.index, y= num2)\n",
    "chart.set_xticklabels(chart.get_xticklabels(),rotation = 90, size = 5)\n",
    "print(\"GRAPH FOR TOTAL NUMBER OF PEOPLE WHO DIED AGAINST  %s : TOTAL = %d\" % ('AGE',(len(num2))))\n",
    "plt.show"
   ]
  },
  {
   "cell_type": "code",
   "execution_count": 19,
   "id": "9feab19f-d5b7-4b43-899e-2955056dfccc",
   "metadata": {},
   "outputs": [
    {
     "name": "stdout",
     "output_type": "stream",
     "text": [
      "GRAPH FOR TOTAL NUMBER OF PEOPLE WHO CURED AGAINST  AGE : TOTAL = 90\n"
     ]
    },
    {
     "name": "stderr",
     "output_type": "stream",
     "text": [
      "/tmp/ipykernel_7540/4186009386.py:3: UserWarning: FixedFormatter should only be used together with FixedLocator\n",
      "  chart.set_xticklabels(chart.get_xticklabels(),rotation = 90, size =5)\n"
     ]
    },
    {
     "data": {
      "text/plain": [
       "<function matplotlib.pyplot.show(close=None, block=None)>"
      ]
     },
     "execution_count": 19,
     "metadata": {},
     "output_type": "execute_result"
    },
    {
     "data": {
      "image/png": "[encoded data removed]",
      "text/plain": [
       "<Figure size 432x288 with 1 Axes>"
      ]
     },
     "metadata": {
      "needs_background": "light"
     },
     "output_type": "display_data"
    }
   ],
   "source": [
    "num3 = df3['AGE'].value_counts()\n",
    "chart = sns.barplot(x=num3.index, y= num3)\n",
    "chart.set_xticklabels(chart.get_xticklabels(),rotation = 90, size =5)\n",
    "print(\"GRAPH FOR TOTAL NUMBER OF PEOPLE WHO CURED AGAINST  %s : TOTAL = %d\" % ('AGE',(len(num3))))\n",
    "plt.show"
   ]
  },
  {
   "cell_type": "markdown",
   "id": "b9ef94f2",
   "metadata": {},
   "source": [
    "#### "
   ]
  }
 ],
 "metadata": {
  "kernelspec": {
   "display_name": "Python 3 (ipykernel)",
   "language": "python",
   "name": "python3"
  },
  "language_info": {
   "codemirror_mode": {
    "name": "ipython",
    "version": 3
   },
   "file_extension": ".py",
   "mimetype": "text/x-python",
   "name": "python",
   "nbconvert_exporter": "python",
   "pygments_lexer": "ipython3",
   "version": "3.10.12"
  }
 },
 "nbformat": 4,
 "nbformat_minor": 5
}
